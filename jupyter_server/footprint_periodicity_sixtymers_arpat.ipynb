{
 "cells": [
  {
   "cell_type": "code",
   "execution_count": 1,
   "metadata": {},
   "outputs": [],
   "source": [
    "%matplotlib inline\n",
    "%config InlineBackend.figure_format = 'retina'"
   ]
  },
  {
   "cell_type": "code",
   "execution_count": null,
   "metadata": {
    "scrolled": true
   },
   "outputs": [],
   "source": [
    "%%capture\n",
    "import sys\n",
    "sys.path.insert(0, '/home/raf_pc/Kemal/RiboSeqAnalysis')\n",
    "from infrastructure.main import *\n",
    "\n",
    "temp_repo_dir = \"/home/raf_pc/Kemal/Temp/mouse\"\n",
    "data_repo_dir = \"/home/raf_pc/Kemal/Data/sam_arpat\"\n",
    "script_path_infrastructure = \"/home/raf_pc/Kemal/RiboSeqAnalysis/infrastructure/\"\n",
    "\n",
    "disomes = [os.path.join(data_repo_dir, i) for i in [\"SRR9715828.sam\", \"SRR9715826.sam\"]]\n",
    "monosomes = [os.path.join(data_repo_dir, i) for i in [\"SRR1930189.sam\", \"SRR1930188.sam\"]]\n",
    "\n",
    "\n",
    "I = Infrastructre(temp_repo_dir,\n",
    "                  riboseq_assign_at=-15,\n",
    "                  riboseq_assign_to=\"best_transcript\",\n",
    "                  ensembl_release=102,\n",
    "                  organism=\"mus_musculus\",\n",
    "                  include_gene3d=True,\n",
    "                  verbose=True)\n",
    "\n",
    "I.riboseq_sixtymers = RiboSeqSixtymers(I.temp_repo_dir, monosomes, disomes, \"sixtymers\",\n",
    "                                       I.riboseq_assign_at, I.riboseq_assign_to,\n",
    "                                       I.protein_genome, I.gene_info,\n",
    "                                       exclude_genes=I.exclude_genes, verbose=I.verbose,\n",
    "                                       footprint_len_experiment=list(range(45,71)),  # From paper\n",
    "                                       footprint_len_translatome=list(range(26,36))  # From paper\n",
    "                                       )"
   ]
  },
  {
   "cell_type": "code",
   "execution_count": 9,
   "metadata": {},
   "outputs": [],
   "source": [
    "the_range = list(range(18,80))\n",
    "trieal = I.riboseq_sixtymers.translatome.assign_for_defined_footprint_lengths(the_range, 32, \n",
    "                                                                              I.protein_genome, I.gene_info)"
   ]
  },
  {
   "cell_type": "code",
   "execution_count": 24,
   "metadata": {},
   "outputs": [
    {
     "data": {
      "text/plain": [
       "<infrastructure.main.RiboSeqAssignment at 0x7f0963ec30b8>"
      ]
     },
     "execution_count": 24,
     "metadata": {},
     "output_type": "execute_result"
    }
   ],
   "source": [
    "I.riboseq_sixtymers.translatome"
   ]
  },
  {
   "cell_type": "code",
   "execution_count": 10,
   "metadata": {},
   "outputs": [],
   "source": [
    "ls = list()\n",
    "for w in the_range:\n",
    "    counter = 0\n",
    "    for gene_id in trieal[30].keys():\n",
    "        counter += np.sum(trieal[w][gene_id])\n",
    "    ls.append(counter)"
   ]
  },
  {
   "cell_type": "code",
   "execution_count": 11,
   "metadata": {},
   "outputs": [
    {
     "data": {
      "image/png": "[encoded data removed]",
      "text/plain": [
       "<Figure size 432x288 with 1 Axes>"
      ]
     },
     "metadata": {
      "image/png": {
       "height": 258,
       "width": 372
      },
      "needs_background": "light"
     },
     "output_type": "display_data"
    },
    {
     "data": {
      "text/plain": [
       "63"
      ]
     },
     "execution_count": 11,
     "metadata": {},
     "output_type": "execute_result"
    }
   ],
   "source": [
    "plt.plot(the_range, ls); plt.show()\n",
    "ls.index(max(ls)) + min(the_range)"
   ]
  },
  {
   "cell_type": "code",
   "execution_count": null,
   "metadata": {},
   "outputs": [],
   "source": [
    "gene_id = I.gene_list[5]\n",
    "print(np.sum(I.riboseq_sixtymers.translatome.gene_assignments[gene_id]))\n",
    "k = np.array([np.sum(trieal[i][gene_id]) for i in the_range])\n",
    "print(np.sum(k))\n",
    "plt.plot(the_range, k); plt.show()"
   ]
  },
  {
   "cell_type": "code",
   "execution_count": null,
   "metadata": {},
   "outputs": [],
   "source": []
  },
  {
   "cell_type": "code",
   "execution_count": null,
   "metadata": {},
   "outputs": [],
   "source": []
  },
  {
   "cell_type": "code",
   "execution_count": null,
   "metadata": {},
   "outputs": [],
   "source": []
  },
  {
   "cell_type": "code",
   "execution_count": null,
   "metadata": {},
   "outputs": [],
   "source": [
    "the_range = list(range(10,60))"
   ]
  },
  {
   "cell_type": "code",
   "execution_count": null,
   "metadata": {},
   "outputs": [],
   "source": [
    "z = 63\n",
    "\n",
    "y = max(I.riboseq_sixtymers.experiment.gene_lengths.values())\n",
    "x = len(trieal[z])\n",
    "arr60 = np.zeros((x,y))\n",
    "for ind, gene_id in enumerate(trieal[z].keys()):\n",
    "    sum_of_replicates = np.sum(trieal[z][gene_id], axis=0)[::-1]\n",
    "    arr60[ind, 0:len(sum_of_replicates)] = sum_of_replicates\n",
    "for mm in range(3):\n",
    "    print(np.sum([num for ind, num in enumerate(np.sum(arr60, axis=0)) if ind % 3 == mm]))"
   ]
  },
  {
   "cell_type": "code",
   "execution_count": null,
   "metadata": {},
   "outputs": [],
   "source": []
  },
  {
   "cell_type": "code",
   "execution_count": null,
   "metadata": {},
   "outputs": [],
   "source": []
  },
  {
   "cell_type": "code",
   "execution_count": null,
   "metadata": {},
   "outputs": [],
   "source": []
  },
  {
   "cell_type": "code",
   "execution_count": null,
   "metadata": {},
   "outputs": [],
   "source": []
  }
 ],
 "metadata": {
  "kernelspec": {
   "display_name": "Python 3",
   "language": "python",
   "name": "python3"
  },
  "language_info": {
   "codemirror_mode": {
    "name": "ipython",
    "version": 3
   },
   "file_extension": ".py",
   "mimetype": "text/x-python",
   "name": "python",
   "nbconvert_exporter": "python",
   "pygments_lexer": "ipython3",
   "version": "3.6.10"
  }
 },
 "nbformat": 4,
 "nbformat_minor": 4
}
